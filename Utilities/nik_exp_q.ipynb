{
 "cells": [
  {
   "cell_type": "code",
   "execution_count": 2,
   "metadata": {},
   "outputs": [],
   "source": [
    "import pandas as pd"
   ]
  },
  {
   "cell_type": "code",
   "execution_count": 4,
   "metadata": {},
   "outputs": [],
   "source": [
    "df = pd.read_csv(\"subjects.csv\")"
   ]
  },
  {
   "cell_type": "code",
   "execution_count": 9,
   "metadata": {},
   "outputs": [
    {
     "data": {
      "text/plain": [
       "0    Basic Programming Concepts\n",
       "1           Classes and Objects\n",
       "2                   Inheritance\n",
       "3               Data Structures\n",
       "4                     Recursion\n",
       "5         Sorting and Searching\n",
       "Name: subjects, dtype: object"
      ]
     },
     "execution_count": 9,
     "metadata": {},
     "output_type": "execute_result"
    }
   ],
   "source": [
    "df[\"subjects\"]"
   ]
  },
  {
   "cell_type": "code",
   "execution_count": 11,
   "metadata": {},
   "outputs": [
    {
     "data": {
      "text/plain": [
       "0        basic.csv\n",
       "1          oop.csv\n",
       "2      inherit.csv\n",
       "3           ds.csv\n",
       "4    recursion.csv\n",
       "5           ss.csv\n",
       "Name: file, dtype: object"
      ]
     },
     "execution_count": 11,
     "metadata": {},
     "output_type": "execute_result"
    }
   ],
   "source": [
    "df[\"file\"]"
   ]
  },
  {
   "cell_type": "code",
   "execution_count": 14,
   "metadata": {},
   "outputs": [],
   "source": [
    "files = list(pd.read_csv(\"subjects.csv\")[\"file\"])"
   ]
  },
  {
   "cell_type": "code",
   "execution_count": 15,
   "metadata": {},
   "outputs": [],
   "source": [
    "subjects = list(pd.read_csv(\"subjects.csv\")[\"subjects\"])"
   ]
  },
  {
   "cell_type": "code",
   "execution_count": null,
   "metadata": {},
   "outputs": [],
   "source": [
    "        file_name = file_names.index(subjects[subjects.index(clicked)])\n"
   ]
  },
  {
   "cell_type": "code",
   "execution_count": 16,
   "metadata": {},
   "outputs": [
    {
     "data": {
      "text/plain": [
       "['basic.csv', 'oop.csv', 'inherit.csv', 'ds.csv', 'recursion.csv', 'ss.csv']"
      ]
     },
     "execution_count": 16,
     "metadata": {},
     "output_type": "execute_result"
    }
   ],
   "source": [
    "files"
   ]
  },
  {
   "cell_type": "code",
   "execution_count": 17,
   "metadata": {},
   "outputs": [
    {
     "data": {
      "text/plain": [
       "['Basic Programming Concepts',\n",
       " 'Classes and Objects',\n",
       " 'Inheritance',\n",
       " 'Data Structures',\n",
       " 'Recursion',\n",
       " 'Sorting and Searching']"
      ]
     },
     "execution_count": 17,
     "metadata": {},
     "output_type": "execute_result"
    }
   ],
   "source": [
    "subjects"
   ]
  },
  {
   "cell_type": "code",
   "execution_count": 18,
   "metadata": {},
   "outputs": [],
   "source": [
    "sel = \"Inheritance\"\n",
    "file_name = files[subjects.index(sel)]\n",
    "\n"
   ]
  },
  {
   "cell_type": "code",
   "execution_count": 19,
   "metadata": {},
   "outputs": [
    {
     "data": {
      "text/plain": [
       "'inherit.csv'"
      ]
     },
     "execution_count": 19,
     "metadata": {},
     "output_type": "execute_result"
    }
   ],
   "source": [
    "file_name"
   ]
  },
  {
   "cell_type": "code",
   "execution_count": 3,
   "metadata": {},
   "outputs": [],
   "source": [
    "correct_answers_dict = {}\n",
    "subjects = ['Algorithms', 'Recursion', 'Sorting', 'Arrays', 'Classes', 'Inheritance']\n",
    "#correct_answers_dict[] = "
   ]
  },
  {
   "cell_type": "code",
   "execution_count": 6,
   "metadata": {},
   "outputs": [
    {
     "data": {
      "image/png": "[encoded data removed]",
      "text/plain": [
       "<Figure size 1000x400 with 1 Axes>"
      ]
     },
     "metadata": {},
     "output_type": "display_data"
    }
   ],
   "source": [
    "# Importing the matplotlib library\n",
    "import matplotlib.pyplot as plt\n",
    "# Declaring the figure or the plot (y, x) or (width, height)\n",
    "plt.figure(figsize=[10, 4])\n",
    "# Categorical data: AP CSA Subjects\n",
    "# ?? Get this from array that was built by reading a file\n",
    "# ?? Get reslts (correct answers and total) from a file - This is if you can write answer statistics to a file\n",
    "# Total questions asked for each subject and correct answers \n",
    "totalQs = (10, 10, 10, 10, 10, 10)\n",
    "correctAns = (5, 2, 9, 10, 1, 7)\n",
    "# Plotting both the total death and the total cases in a single plot. Formula total cases - total deaths\n",
    "for i in range(len(subjects)):\n",
    "    plt.bar(subjects[i], totalQs[i] - correctAns[i], bottom = correctAns[i], color='red')\n",
    "    plt.bar(subjects[i], correctAns[i], color='green')\n",
    "\n",
    "# Creating the legend of the bars in the plot\n",
    "plt.legend(labels = ['Wrong','Correct'])\n",
    "\n",
    "# Giving the tilte for the plot\n",
    "plt.title(\"Your Diagnostic Results for QuizMaster: AP CSA Edition\")\n",
    "# Namimg the x and y axis\n",
    "plt.xlabel('Subjects')\n",
    "plt.ylabel('Results')\n",
    "# Saving the plot as a 'png'\n",
    "plt.savefig('BarPlot.png')\n",
    "# Displaying the bar plot\n",
    "plt.show()"
   ]
  },
  {
   "cell_type": "code",
   "execution_count": 3,
   "metadata": {},
   "outputs": [],
   "source": [
    "import pandas as pd\n",
    "subjects_csv = pd.read_csv(\"../subjects.csv\")\n"
   ]
  },
  {
   "cell_type": "code",
   "execution_count": 27,
   "metadata": {},
   "outputs": [
    {
     "data": {
      "text/html": [
       "<div>\n",
       "<style scoped>\n",
       "    .dataframe tbody tr th:only-of-type {\n",
       "        vertical-align: middle;\n",
       "    }\n",
       "\n",
       "    .dataframe tbody tr th {\n",
       "        vertical-align: top;\n",
       "    }\n",
       "\n",
       "    .dataframe thead th {\n",
       "        text-align: right;\n",
       "    }\n",
       "</style>\n",
       "<table border=\"1\" class=\"dataframe\">\n",
       "  <thead>\n",
       "    <tr style=\"text-align: right;\">\n",
       "      <th></th>\n",
       "      <th>subjects</th>\n",
       "      <th>file</th>\n",
       "      <th>correct</th>\n",
       "      <th>total</th>\n",
       "    </tr>\n",
       "  </thead>\n",
       "  <tbody>\n",
       "    <tr>\n",
       "      <th>0</th>\n",
       "      <td>Basic Programming Concepts</td>\n",
       "      <td>Data/basic.csv</td>\n",
       "      <td>4</td>\n",
       "      <td>0</td>\n",
       "    </tr>\n",
       "    <tr>\n",
       "      <th>1</th>\n",
       "      <td>Classes and Objects</td>\n",
       "      <td>Data/oop.csv</td>\n",
       "      <td>5</td>\n",
       "      <td>0</td>\n",
       "    </tr>\n",
       "    <tr>\n",
       "      <th>2</th>\n",
       "      <td>Inheritance</td>\n",
       "      <td>Data/inherit.csv</td>\n",
       "      <td>3</td>\n",
       "      <td>0</td>\n",
       "    </tr>\n",
       "    <tr>\n",
       "      <th>3</th>\n",
       "      <td>Data Structures</td>\n",
       "      <td>Data/ds.csv</td>\n",
       "      <td>0</td>\n",
       "      <td>0</td>\n",
       "    </tr>\n",
       "    <tr>\n",
       "      <th>4</th>\n",
       "      <td>Recursion</td>\n",
       "      <td>Data/recursion.csv</td>\n",
       "      <td>0</td>\n",
       "      <td>0</td>\n",
       "    </tr>\n",
       "  </tbody>\n",
       "</table>\n",
       "</div>"
      ],
      "text/plain": [
       "                     subjects                file  correct  total\n",
       "0  Basic Programming Concepts      Data/basic.csv        4      0\n",
       "1         Classes and Objects        Data/oop.csv        5      0\n",
       "2                 Inheritance    Data/inherit.csv        3      0\n",
       "3             Data Structures         Data/ds.csv        0      0\n",
       "4                   Recursion  Data/recursion.csv        0      0"
      ]
     },
     "execution_count": 27,
     "metadata": {},
     "output_type": "execute_result"
    }
   ],
   "source": [
    "subjects_csv.head()"
   ]
  },
  {
   "cell_type": "code",
   "execution_count": 22,
   "metadata": {},
   "outputs": [],
   "source": [
    "import numpy as np\n",
    "subjects_csv['correct'] = subjects_csv['correct'].astype(np.int64)\n",
    "subjects_csv['total'] = subjects_csv['total'].astype(np.int64)"
   ]
  },
  {
   "cell_type": "code",
   "execution_count": 26,
   "metadata": {},
   "outputs": [
    {
     "name": "stdout",
     "output_type": "stream",
     "text": [
      "<class 'pandas.core.frame.DataFrame'>\n",
      "RangeIndex: 6 entries, 0 to 5\n",
      "Data columns (total 4 columns):\n",
      " #   Column    Non-Null Count  Dtype \n",
      "---  ------    --------------  ----- \n",
      " 0   subjects  6 non-null      object\n",
      " 1   file      6 non-null      object\n",
      " 2   correct   6 non-null      int64 \n",
      " 3   total     6 non-null      int64 \n",
      "dtypes: int64(2), object(2)\n",
      "memory usage: 320.0+ bytes\n"
     ]
    }
   ],
   "source": [
    "subjects_csv.info()"
   ]
  },
  {
   "cell_type": "code",
   "execution_count": 7,
   "metadata": {},
   "outputs": [],
   "source": [
    "subjects_csv = subjects_csv.fillna(0)"
   ]
  },
  {
   "cell_type": "code",
   "execution_count": 25,
   "metadata": {},
   "outputs": [],
   "source": [
    "        subjects_csv.loc[2, \"correct\"] = int(3)\n",
    "        subjects_csv.to_csv(\"../subjects.csv\", index=False)\n"
   ]
  },
  {
   "cell_type": "code",
   "execution_count": 29,
   "metadata": {},
   "outputs": [
    {
     "data": {
      "text/plain": [
       "[5, 5, 5, 5, 5, 5]"
      ]
     },
     "execution_count": 29,
     "metadata": {},
     "output_type": "execute_result"
    }
   ],
   "source": [
    "        subjects = subjects_csv[\"subjects\"]\n",
    "        total_qs = [5 for i in subjects]\n",
    "        total_qs\n"
   ]
  },
  {
   "cell_type": "code",
   "execution_count": 40,
   "metadata": {},
   "outputs": [
    {
     "name": "stdout",
     "output_type": "stream",
     "text": [
      "[5 5 5 5 5 5]\n"
     ]
    }
   ],
   "source": [
    "total_qs = subjects_csv[\"total\"].to_numpy()\n",
    "print(total_qs)"
   ]
  },
  {
   "cell_type": "code",
   "execution_count": 41,
   "metadata": {},
   "outputs": [
    {
     "data": {
      "text/plain": [
       "5"
      ]
     },
     "execution_count": 41,
     "metadata": {},
     "output_type": "execute_result"
    }
   ],
   "source": [
    "subjects_csv[\"correct\"][1]"
   ]
  },
  {
   "cell_type": "code",
   "execution_count": null,
   "metadata": {},
   "outputs": [],
   "source": [
    "        # Create the Bar Graph\n",
    "        plt.figure(figsize=[11, 4])\n",
    "        \n",
    "        # Get the Total Questions for Each Subject\n",
    "        total_qs = [total_questions for i in subjects]\n",
    "            \n",
    "        # Graph the Colored Bars to their Respective Area\n",
    "        for i in range(len(subjects)):\n",
    "            plt.bar(subjects[i], total_qs[i] - subjects_csv[\"correct\"][i], bottom=list(subjects_csv[\"correct\"])[i], color=\"red\", width=2)\n",
    "            plt.bar(subjects[i], list(subjects_csv[\"correct\"])[i], color=\"green\", width=2)\n",
    "        \n"
   ]
  },
  {
   "cell_type": "code",
   "execution_count": 50,
   "metadata": {},
   "outputs": [
    {
     "data": {
      "text/html": [
       "<div>\n",
       "<style scoped>\n",
       "    .dataframe tbody tr th:only-of-type {\n",
       "        vertical-align: middle;\n",
       "    }\n",
       "\n",
       "    .dataframe tbody tr th {\n",
       "        vertical-align: top;\n",
       "    }\n",
       "\n",
       "    .dataframe thead th {\n",
       "        text-align: right;\n",
       "    }\n",
       "</style>\n",
       "<table border=\"1\" class=\"dataframe\">\n",
       "  <thead>\n",
       "    <tr style=\"text-align: right;\">\n",
       "      <th></th>\n",
       "      <th>subjects</th>\n",
       "      <th>file</th>\n",
       "      <th>correct</th>\n",
       "      <th>total</th>\n",
       "    </tr>\n",
       "  </thead>\n",
       "  <tbody>\n",
       "    <tr>\n",
       "      <th>0</th>\n",
       "      <td>Basic Programming Concepts</td>\n",
       "      <td>Data/basic.csv</td>\n",
       "      <td>2</td>\n",
       "      <td>0</td>\n",
       "    </tr>\n",
       "    <tr>\n",
       "      <th>1</th>\n",
       "      <td>Classes and Objects</td>\n",
       "      <td>Data/oop.csv</td>\n",
       "      <td>5</td>\n",
       "      <td>0</td>\n",
       "    </tr>\n",
       "    <tr>\n",
       "      <th>2</th>\n",
       "      <td>Inheritance</td>\n",
       "      <td>Data/inherit.csv</td>\n",
       "      <td>3</td>\n",
       "      <td>0</td>\n",
       "    </tr>\n",
       "    <tr>\n",
       "      <th>3</th>\n",
       "      <td>Data Structures</td>\n",
       "      <td>Data/ds.csv</td>\n",
       "      <td>0</td>\n",
       "      <td>0</td>\n",
       "    </tr>\n",
       "    <tr>\n",
       "      <th>4</th>\n",
       "      <td>Recursion</td>\n",
       "      <td>Data/recursion.csv</td>\n",
       "      <td>0</td>\n",
       "      <td>0</td>\n",
       "    </tr>\n",
       "    <tr>\n",
       "      <th>5</th>\n",
       "      <td>Sorting and Searching</td>\n",
       "      <td>Data/ss.csv</td>\n",
       "      <td>0</td>\n",
       "      <td>0</td>\n",
       "    </tr>\n",
       "  </tbody>\n",
       "</table>\n",
       "</div>"
      ],
      "text/plain": [
       "                     subjects                file  correct  total\n",
       "0  Basic Programming Concepts      Data/basic.csv        2      0\n",
       "1         Classes and Objects        Data/oop.csv        5      0\n",
       "2                 Inheritance    Data/inherit.csv        3      0\n",
       "3             Data Structures         Data/ds.csv        0      0\n",
       "4                   Recursion  Data/recursion.csv        0      0\n",
       "5       Sorting and Searching         Data/ss.csv        0      0"
      ]
     },
     "execution_count": 50,
     "metadata": {},
     "output_type": "execute_result"
    }
   ],
   "source": [
    "subjects_csv"
   ]
  },
  {
   "cell_type": "code",
   "execution_count": 54,
   "metadata": {},
   "outputs": [
    {
     "name": "stdout",
     "output_type": "stream",
     "text": [
      "6\n",
      "5\n"
     ]
    },
    {
     "data": {
      "image/png": "[encoded data removed]",
      "text/plain": [
       "<Figure size 1100x400 with 1 Axes>"
      ]
     },
     "metadata": {},
     "output_type": "display_data"
    }
   ],
   "source": [
    "from pandas import *\n",
    "import matplotlib.pyplot as plt\n",
    "\n",
    "subjects_csv = read_csv(\"../subjects.csv\")\n",
    "\n",
    "subjects_csv[\"total\"] = 5\n",
    "\n",
    "# Create the Bar Graph\n",
    "plt.figure(figsize=[11, 4])\n",
    "\n",
    "subjects = subjects_csv[\"subjects\"]\n",
    "print(len(subjects))\n",
    "\n",
    "total_qs = subjects_csv[\"total\"]\n",
    "print(total_qs[0])\n",
    "# Graph the Colored Bars to their Respective Area\n",
    "for i in range(len(subjects)):\n",
    "    plt.bar(subjects[i], total_qs[i] - subjects_csv[\"correct\"][i], bottom=subjects_csv[\"correct\"][i], color=\"red\")\n",
    "    plt.bar(subjects[i], subjects_csv[\"correct\"][i], color=\"green\")\n",
    "\n",
    "# Place the Legend onto the Screen\n",
    "plt.legend(labels=[\"Wrong Answers\", \"Correct Answers\"])\n",
    "        \n",
    "# Change the Title of the Graph\n",
    "plt.title(\"Results of your Diagnostic(s)\")\n",
    "        \n",
    "# Create the Axis Labels\n",
    "plt.xlabel(\"Subjects\")\n",
    "plt.ylabel(\"Results\")\n",
    "# Save the Graph\n",
    "plt.savefig(\"BarPlot.png\")\n",
    "\n",
    "plt.show()\n"
   ]
  },
  {
   "cell_type": "code",
   "execution_count": null,
   "metadata": {},
   "outputs": [],
   "source": [
    "    \n",
    "        \n",
    "\n",
    "        \n",
    "        #plt.xticks(range(len(subjects)), subjects, rotation='vertical')\n",
    "\n",
    "        \n",
    "        # Create the Show Graph Button\n",
    "        show_graph = Button(window, text=\"Show Graph\", font=(font, 15, \"bold\"), command=show_graph_command)\n",
    "        \n",
    "        # Graph the Button\n",
    "        show_graph.grid(column=0, row=3)\n",
    "        \n",
    "        # Entry Object to send User their Results\n",
    "        email_input = Entry(window, width=20, font=(\"font\", 15))\n",
    "        email_input.grid(column=1, row=1)\n",
    "        \n",
    "        # Entry Decription Label\n",
    "        email_description = Label(window, text=\"Please enter your email and press send to be sent your results.\\nOr press exit or another test to leave this screen: \", font=(font, 15, \"bold\"))\n",
    "        email_description.grid(column=0, row=1, rowspan=2)\n",
    "        \n",
    "        # Create the Send Button\n",
    "        send_btn = Button(window, text=\"Send\", font=(font, 15, \"bold\"), command=send)\n",
    "        send_btn.grid(column=1, row=5)\n",
    "    \n",
    "    def show_graph_command(self):\n",
    "        plt.show()\n"
   ]
  }
 ],
 "metadata": {
  "kernelspec": {
   "display_name": "da",
   "language": "python",
   "name": "python3"
  },
  "language_info": {
   "codemirror_mode": {
    "name": "ipython",
    "version": 3
   },
   "file_extension": ".py",
   "mimetype": "text/x-python",
   "name": "python",
   "nbconvert_exporter": "python",
   "pygments_lexer": "ipython3",
   "version": "3.10.9"
  },
  "orig_nbformat": 4
 },
 "nbformat": 4,
 "nbformat_minor": 2
}
